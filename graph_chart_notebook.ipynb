{
 "cells": [
  {
   "cell_type": "code",
   "execution_count": 20,
   "id": "43279e5d",
   "metadata": {},
   "outputs": [],
   "source": [
    "import pandas as pd\n",
    "import matplotlib.pyplot as plt\n",
    "from matplotlib.pyplot import figure\n",
    "%matplotlib inline\n",
    "\n",
    "import networkx as nx\n",
    "from networkx.algorithms import community\n",
    "import networkx.algorithms.community as nxcom\n",
    "from pyvis.network import Network"
   ]
  },
  {
   "cell_type": "code",
   "execution_count": 21,
   "id": "52c1d51d",
   "metadata": {},
   "outputs": [],
   "source": [
    "# download dataframe\n",
    "df = pd.read_csv('polygon_daily_transactions.csv')"
   ]
  },
  {
   "cell_type": "markdown",
   "id": "d24ad5c0",
   "metadata": {},
   "source": [
    "# Observe Data"
   ]
  },
  {
   "cell_type": "code",
   "execution_count": 22,
   "id": "76dee04c",
   "metadata": {},
   "outputs": [
    {
     "data": {
      "text/plain": [
       "(706763, 3)"
      ]
     },
     "execution_count": 22,
     "metadata": {},
     "output_type": "execute_result"
    }
   ],
   "source": [
    "# check dataframe properties\n",
    "df.shape"
   ]
  },
  {
   "cell_type": "code",
   "execution_count": 24,
   "id": "3821fef9",
   "metadata": {},
   "outputs": [],
   "source": [
    "# exclude form dataframe cases, when transactions were sent and received by the same address. \n",
    "df = df[df.sender_address != df.receiver_address]"
   ]
  },
  {
   "cell_type": "code",
   "execution_count": 25,
   "id": "605c11f7",
   "metadata": {},
   "outputs": [
    {
     "data": {
      "text/plain": [
       "Text(0.5, 1.0, 'Distribution of Transactions between Senders and Receivers')"
      ]
     },
     "execution_count": 25,
     "metadata": {},
     "output_type": "execute_result"
    },
    {
     "data": {
      "image/png": "[encoded data removed]",
      "text/plain": [
       "<Figure size 648x360 with 1 Axes>"
      ]
     },
     "metadata": {
      "needs_background": "light"
     },
     "output_type": "display_data"
    }
   ],
   "source": [
    "figure(figsize=(9, 5))\n",
    "df[['txs']].boxplot(vert = False, flierprops={'marker': 'x', 'markersize': 5, 'markerfacecolor': 'lightgrey'})\n",
    "plt.title('Distribution of Transactions between Senders and Receivers')"
   ]
  },
  {
   "cell_type": "code",
   "execution_count": 26,
   "id": "7afde971",
   "metadata": {},
   "outputs": [
    {
     "data": {
      "text/plain": [
       "count    703463.000000\n",
       "mean          4.020560\n",
       "std         137.097368\n",
       "min           1.000000\n",
       "25%           1.000000\n",
       "50%           1.000000\n",
       "75%           2.000000\n",
       "max       96998.000000\n",
       "Name: txs, dtype: float64"
      ]
     },
     "execution_count": 26,
     "metadata": {},
     "output_type": "execute_result"
    }
   ],
   "source": [
    "df.txs.describe()"
   ]
  },
  {
   "cell_type": "code",
   "execution_count": 27,
   "id": "e9b5b2b1",
   "metadata": {},
   "outputs": [
    {
     "data": {
      "text/plain": [
       "209514"
      ]
     },
     "execution_count": 27,
     "metadata": {},
     "output_type": "execute_result"
    }
   ],
   "source": [
    "# check if there are senders in receivers and vice versa\n",
    "receiver_list = list(df.receiver_address)\n",
    "df_check = df.query('sender_address in @receiver_list')\n",
    "len(df_check)"
   ]
  },
  {
   "cell_type": "code",
   "execution_count": 28,
   "id": "253fc722",
   "metadata": {},
   "outputs": [
    {
     "data": {
      "text/plain": [
       "119288"
      ]
     },
     "execution_count": 28,
     "metadata": {},
     "output_type": "execute_result"
    }
   ],
   "source": [
    "sender_list = list(df.sender_address)\n",
    "df_check = df.query('receiver_address in @sender_list')\n",
    "len(df_check)"
   ]
  },
  {
   "cell_type": "markdown",
   "id": "958719f7",
   "metadata": {},
   "source": [
    "# Generate graph"
   ]
  },
  {
   "cell_type": "code",
   "execution_count": 29,
   "id": "b635135e",
   "metadata": {},
   "outputs": [
    {
     "name": "stdout",
     "output_type": "stream",
     "text": [
      "Name: \n",
      "Type: Graph\n",
      "Number of nodes: 416165\n",
      "Number of edges: 697292\n",
      "Average degree:   3.3510\n"
     ]
    }
   ],
   "source": [
    "# Create graph and check the description\n",
    "G = nx.from_pandas_edgelist(df, 'sender_address', 'receiver_address')\n",
    "print(nx.info(G))"
   ]
  },
  {
   "cell_type": "markdown",
   "id": "e054cf53",
   "metadata": {},
   "source": [
    "## Define Sample"
   ]
  },
  {
   "cell_type": "code",
   "execution_count": 30,
   "id": "ee68c1b0",
   "metadata": {},
   "outputs": [
    {
     "data": {
      "text/html": [
       "<div>\n",
       "<style scoped>\n",
       "    .dataframe tbody tr th:only-of-type {\n",
       "        vertical-align: middle;\n",
       "    }\n",
       "\n",
       "    .dataframe tbody tr th {\n",
       "        vertical-align: top;\n",
       "    }\n",
       "\n",
       "    .dataframe thead th {\n",
       "        text-align: right;\n",
       "    }\n",
       "</style>\n",
       "<table border=\"1\" class=\"dataframe\">\n",
       "  <thead>\n",
       "    <tr style=\"text-align: right;\">\n",
       "      <th></th>\n",
       "      <th>txs</th>\n",
       "    </tr>\n",
       "    <tr>\n",
       "      <th>receiver_address</th>\n",
       "      <th></th>\n",
       "    </tr>\n",
       "  </thead>\n",
       "  <tbody>\n",
       "    <tr>\n",
       "      <th>0x05da6c1948f4087dd04d97b0106583963cfa559d</th>\n",
       "      <td>29</td>\n",
       "    </tr>\n",
       "    <tr>\n",
       "      <th>0x09a84f900205b1ac5f3214d3220c7317fd5f5b77</th>\n",
       "      <td>29</td>\n",
       "    </tr>\n",
       "    <tr>\n",
       "      <th>0x16625b9ff0f12952b3a9b048aaba4ac4229b2f9a</th>\n",
       "      <td>29</td>\n",
       "    </tr>\n",
       "    <tr>\n",
       "      <th>0x219a9a3f773712fad225f6b33b00460aec93dbde</th>\n",
       "      <td>29</td>\n",
       "    </tr>\n",
       "    <tr>\n",
       "      <th>0x225392dbb7f99ed1f97ea4fabb845d729c94f2ea</th>\n",
       "      <td>29</td>\n",
       "    </tr>\n",
       "    <tr>\n",
       "      <th>0x231b0d272d5ff3a9b47d971fb6b1cac2f149a8ae</th>\n",
       "      <td>29</td>\n",
       "    </tr>\n",
       "    <tr>\n",
       "      <th>0x337e35068d854c0259f71b4dc7373cd1ddbb36e9</th>\n",
       "      <td>29</td>\n",
       "    </tr>\n",
       "    <tr>\n",
       "      <th>0x3415792e31e88c79c53d5e488d6ff4634f8c412e</th>\n",
       "      <td>29</td>\n",
       "    </tr>\n",
       "    <tr>\n",
       "      <th>0x37ba5291a5be8cbe44717a0673fe2c5a45b4b6a8</th>\n",
       "      <td>29</td>\n",
       "    </tr>\n",
       "    <tr>\n",
       "      <th>0x3abfface24489273f346a33b1ec374867371de43</th>\n",
       "      <td>29</td>\n",
       "    </tr>\n",
       "  </tbody>\n",
       "</table>\n",
       "</div>"
      ],
      "text/plain": [
       "                                            txs\n",
       "receiver_address                               \n",
       "0x05da6c1948f4087dd04d97b0106583963cfa559d   29\n",
       "0x09a84f900205b1ac5f3214d3220c7317fd5f5b77   29\n",
       "0x16625b9ff0f12952b3a9b048aaba4ac4229b2f9a   29\n",
       "0x219a9a3f773712fad225f6b33b00460aec93dbde   29\n",
       "0x225392dbb7f99ed1f97ea4fabb845d729c94f2ea   29\n",
       "0x231b0d272d5ff3a9b47d971fb6b1cac2f149a8ae   29\n",
       "0x337e35068d854c0259f71b4dc7373cd1ddbb36e9   29\n",
       "0x3415792e31e88c79c53d5e488d6ff4634f8c412e   29\n",
       "0x37ba5291a5be8cbe44717a0673fe2c5a45b4b6a8   29\n",
       "0x3abfface24489273f346a33b1ec374867371de43   29"
      ]
     },
     "execution_count": 30,
     "metadata": {},
     "output_type": "execute_result"
    }
   ],
   "source": [
    "# Get the amount of transactions received by the address\n",
    "df_grouped = df.groupby('receiver_address').agg({'txs': 'sum'})\n",
    "# Filter on receivers with defined amount of transactions\n",
    "df_grouped[df_grouped.txs == 29].head(10)"
   ]
  },
  {
   "cell_type": "code",
   "execution_count": 41,
   "id": "6f5e6fac",
   "metadata": {},
   "outputs": [
    {
     "data": {
      "text/plain": [
       "21"
      ]
     },
     "execution_count": 41,
     "metadata": {},
     "output_type": "execute_result"
    }
   ],
   "source": [
    "# Get list of senders, who interacted with this receiver\n",
    "receiver_address = '0x09a84f900205b1ac5f3214d3220c7317fd5f5b77'\n",
    "senders = list(df.sender_address[df.receiver_address == receiver_address])\n",
    "# Define what is dataframe size, which is filtered on senders\n",
    "len(df[df.sender_address.isin(senders)])"
   ]
  },
  {
   "cell_type": "code",
   "execution_count": 42,
   "id": "b0e3208c",
   "metadata": {},
   "outputs": [],
   "source": [
    "# Create filtered dataframe\n",
    "df_address = df[df.sender_address.isin(senders)].sort_values(by = 'txs', ascending = False)"
   ]
  },
  {
   "cell_type": "code",
   "execution_count": 43,
   "id": "02ceebc9",
   "metadata": {},
   "outputs": [
    {
     "data": {
      "text/html": [
       "<div>\n",
       "<style scoped>\n",
       "    .dataframe tbody tr th:only-of-type {\n",
       "        vertical-align: middle;\n",
       "    }\n",
       "\n",
       "    .dataframe tbody tr th {\n",
       "        vertical-align: top;\n",
       "    }\n",
       "\n",
       "    .dataframe thead th {\n",
       "        text-align: right;\n",
       "    }\n",
       "</style>\n",
       "<table border=\"1\" class=\"dataframe\">\n",
       "  <thead>\n",
       "    <tr style=\"text-align: right;\">\n",
       "      <th></th>\n",
       "      <th>sender_address</th>\n",
       "      <th>receiver_address</th>\n",
       "      <th>txs</th>\n",
       "    </tr>\n",
       "  </thead>\n",
       "  <tbody>\n",
       "    <tr>\n",
       "      <th>560790</th>\n",
       "      <td>0x403cc1e7a756c440e82596ed2e78798aadf4012d</td>\n",
       "      <td>0x09a84f900205b1ac5f3214d3220c7317fd5f5b77</td>\n",
       "      <td>2</td>\n",
       "    </tr>\n",
       "    <tr>\n",
       "      <th>105994</th>\n",
       "      <td>0x954bdebfd4aa623c66ad8a53747cae437339b455</td>\n",
       "      <td>0x09a84f900205b1ac5f3214d3220c7317fd5f5b77</td>\n",
       "      <td>2</td>\n",
       "    </tr>\n",
       "    <tr>\n",
       "      <th>541432</th>\n",
       "      <td>0x954bdebfd4aa623c66ad8a53747cae437339b455</td>\n",
       "      <td>0x403cc1e7a756c440e82596ed2e78798aadf4012d</td>\n",
       "      <td>1</td>\n",
       "    </tr>\n",
       "    <tr>\n",
       "      <th>139671</th>\n",
       "      <td>0x2b24a02ece96980dcb45deca18ce1ce84490f8c7</td>\n",
       "      <td>0x09a84f900205b1ac5f3214d3220c7317fd5f5b77</td>\n",
       "      <td>1</td>\n",
       "    </tr>\n",
       "  </tbody>\n",
       "</table>\n",
       "</div>"
      ],
      "text/plain": [
       "                                    sender_address  \\\n",
       "560790  0x403cc1e7a756c440e82596ed2e78798aadf4012d   \n",
       "105994  0x954bdebfd4aa623c66ad8a53747cae437339b455   \n",
       "541432  0x954bdebfd4aa623c66ad8a53747cae437339b455   \n",
       "139671  0x2b24a02ece96980dcb45deca18ce1ce84490f8c7   \n",
       "\n",
       "                                  receiver_address  txs  \n",
       "560790  0x09a84f900205b1ac5f3214d3220c7317fd5f5b77    2  \n",
       "105994  0x09a84f900205b1ac5f3214d3220c7317fd5f5b77    2  \n",
       "541432  0x403cc1e7a756c440e82596ed2e78798aadf4012d    1  \n",
       "139671  0x09a84f900205b1ac5f3214d3220c7317fd5f5b77    1  "
      ]
     },
     "execution_count": 43,
     "metadata": {},
     "output_type": "execute_result"
    }
   ],
   "source": [
    "# check if there are senders in receivers and vice versa\n",
    "receiver_list = list(df_address.receiver_address)\n",
    "df_check = df_address.query('sender_address in @receiver_list')\n",
    "df_check"
   ]
  },
  {
   "cell_type": "code",
   "execution_count": 44,
   "id": "7b822b47",
   "metadata": {},
   "outputs": [
    {
     "data": {
      "text/html": [
       "<div>\n",
       "<style scoped>\n",
       "    .dataframe tbody tr th:only-of-type {\n",
       "        vertical-align: middle;\n",
       "    }\n",
       "\n",
       "    .dataframe tbody tr th {\n",
       "        vertical-align: top;\n",
       "    }\n",
       "\n",
       "    .dataframe thead th {\n",
       "        text-align: right;\n",
       "    }\n",
       "</style>\n",
       "<table border=\"1\" class=\"dataframe\">\n",
       "  <thead>\n",
       "    <tr style=\"text-align: right;\">\n",
       "      <th></th>\n",
       "      <th>sender_address</th>\n",
       "      <th>receiver_address</th>\n",
       "      <th>txs</th>\n",
       "    </tr>\n",
       "  </thead>\n",
       "  <tbody>\n",
       "    <tr>\n",
       "      <th>541432</th>\n",
       "      <td>0x954bdebfd4aa623c66ad8a53747cae437339b455</td>\n",
       "      <td>0x403cc1e7a756c440e82596ed2e78798aadf4012d</td>\n",
       "      <td>1</td>\n",
       "    </tr>\n",
       "    <tr>\n",
       "      <th>484406</th>\n",
       "      <td>0x0b426e0c7e56a98e500816f6ac5cf1c027c6e2f1</td>\n",
       "      <td>0x954bdebfd4aa623c66ad8a53747cae437339b455</td>\n",
       "      <td>1</td>\n",
       "    </tr>\n",
       "    <tr>\n",
       "      <th>236553</th>\n",
       "      <td>0xc395a7982ecb5586e1f655caab32dc0217d50bc1</td>\n",
       "      <td>0x2b24a02ece96980dcb45deca18ce1ce84490f8c7</td>\n",
       "      <td>1</td>\n",
       "    </tr>\n",
       "  </tbody>\n",
       "</table>\n",
       "</div>"
      ],
      "text/plain": [
       "                                    sender_address  \\\n",
       "541432  0x954bdebfd4aa623c66ad8a53747cae437339b455   \n",
       "484406  0x0b426e0c7e56a98e500816f6ac5cf1c027c6e2f1   \n",
       "236553  0xc395a7982ecb5586e1f655caab32dc0217d50bc1   \n",
       "\n",
       "                                  receiver_address  txs  \n",
       "541432  0x403cc1e7a756c440e82596ed2e78798aadf4012d    1  \n",
       "484406  0x954bdebfd4aa623c66ad8a53747cae437339b455    1  \n",
       "236553  0x2b24a02ece96980dcb45deca18ce1ce84490f8c7    1  "
      ]
     },
     "execution_count": 44,
     "metadata": {},
     "output_type": "execute_result"
    }
   ],
   "source": [
    "sender_list = list(df_address.sender_address)\n",
    "df_check = df_address.query('receiver_address in @sender_list')\n",
    "df_check"
   ]
  },
  {
   "cell_type": "code",
   "execution_count": 45,
   "id": "187c9857",
   "metadata": {},
   "outputs": [
    {
     "data": {
      "text/plain": [
       "(21, 3)"
      ]
     },
     "execution_count": 45,
     "metadata": {},
     "output_type": "execute_result"
    }
   ],
   "source": [
    "df_address.shape"
   ]
  },
  {
   "cell_type": "markdown",
   "id": "5ee1e9f1",
   "metadata": {},
   "source": [
    "## Identify Communities"
   ]
  },
  {
   "cell_type": "code",
   "execution_count": 256,
   "id": "e5dde066",
   "metadata": {},
   "outputs": [],
   "source": [
    "# generate graph from filtered dataframe\n",
    "G_address = nx.from_pandas_edgelist(df_address,'sender_address', 'receiver_address')"
   ]
  },
  {
   "cell_type": "code",
   "execution_count": 231,
   "id": "4e7e2708",
   "metadata": {},
   "outputs": [
    {
     "name": "stdout",
     "output_type": "stream",
     "text": [
      "0x09a84f900205b1ac5f3214d3220c7317fd5f5b77 based network has 3 communities.\n"
     ]
    }
   ],
   "source": [
    "# Find the communities\n",
    "communities = sorted(nxcom.greedy_modularity_communities(G_address), key=len, reverse=True)\n",
    "# Count the communities\n",
    "print(f\"{receiver_address} based network has {len(communities)} communities.\")"
   ]
  },
  {
   "cell_type": "code",
   "execution_count": 232,
   "id": "099c9d57",
   "metadata": {},
   "outputs": [
    {
     "name": "stdout",
     "output_type": "stream",
     "text": [
      "0x09a84f900205b1ac5f3214d3220c7317fd5f5b77 based network has 3 communities.\n"
     ]
    }
   ],
   "source": [
    "communities_generator = community.girvan_newman(G_address)\n",
    "top_level_communities = next(communities_generator)\n",
    "next_level_communities = next(communities_generator)\n",
    "print(f\"{receiver_address} based network has {len(next_level_communities)} communities.\")"
   ]
  },
  {
   "cell_type": "code",
   "execution_count": 233,
   "id": "d1bf48a1",
   "metadata": {},
   "outputs": [
    {
     "data": {
      "text/plain": [
       "[['0x09a84f900205b1ac5f3214d3220c7317fd5f5b77',\n",
       "  '0x0b68b6c5b1d8e9f209b29519fafd455bfe7e7f55',\n",
       "  '0x674bec71176f49771fb87324a2ff0fae2221f45c',\n",
       "  '0x8766e0167e95b7de376644c0be62c0d17641e81d',\n",
       "  '0x8dff8538700737974152140c0c3be114e22ad296',\n",
       "  '0x9a7c4815656b33bf32192e5c3fd102b90d5b9f34',\n",
       "  '0xe305e6e9917cfd79c4634fd5a3022f995c6e65f7',\n",
       "  '0xfc8ce27a58d5dad08d52b5d339b7cf65458f2f85',\n",
       "  '0xfdb3dfec142042839ad7c3dab5c8b801904addb4'],\n",
       " ['0x0b426e0c7e56a98e500816f6ac5cf1c027c6e2f1',\n",
       "  '0x403cc1e7a756c440e82596ed2e78798aadf4012d',\n",
       "  '0x68b3465833fb72a70ecdf485e0e4c7bd8665fc45',\n",
       "  '0x954bdebfd4aa623c66ad8a53747cae437339b455'],\n",
       " ['0x1a1ec25dc08e98e5e93f1104b5e5cdd298707d31',\n",
       "  '0x2b24a02ece96980dcb45deca18ce1ce84490f8c7',\n",
       "  '0x5336dd2ef8fa4526200c34da275622b98a22b28e',\n",
       "  '0xc395a7982ecb5586e1f655caab32dc0217d50bc1',\n",
       "  '0xd50cebb8531047ba089f7266bb9e9ee65366f681']]"
      ]
     },
     "execution_count": 233,
     "metadata": {},
     "output_type": "execute_result"
    }
   ],
   "source": [
    "communities_list = sorted(map(sorted, next_level_communities))\n",
    "communities_list"
   ]
  },
  {
   "cell_type": "markdown",
   "id": "1b216c57",
   "metadata": {},
   "source": [
    "# Visualisation"
   ]
  },
  {
   "cell_type": "code",
   "execution_count": 234,
   "id": "f47d5ff2",
   "metadata": {},
   "outputs": [
    {
     "data": {
      "image/png": "[encoded data removed]",
      "text/plain": [
       "<Figure size 432x288 with 1 Axes>"
      ]
     },
     "metadata": {},
     "output_type": "display_data"
    },
    {
     "data": {
      "text/plain": [
       "<Figure size 648x576 with 0 Axes>"
      ]
     },
     "metadata": {},
     "output_type": "display_data"
    }
   ],
   "source": [
    "nx.draw_spring(G_address, \n",
    "               node_size=20)\n",
    "figure(figsize=(9, 8))\n",
    "plt.show()"
   ]
  },
  {
   "cell_type": "markdown",
   "id": "9f9b2d66",
   "metadata": {},
   "source": [
    "## Matplotlib"
   ]
  },
  {
   "cell_type": "markdown",
   "id": "81e01332",
   "metadata": {},
   "source": [
    "### Color Nodes"
   ]
  },
  {
   "cell_type": "code",
   "execution_count": 275,
   "id": "115d0f63",
   "metadata": {},
   "outputs": [],
   "source": [
    "def set_node_community(G, communities):\n",
    "    '''Add community to node attributes'''\n",
    "    for c, v_c in enumerate(communities):\n",
    "        for v in v_c:\n",
    "# Add 1 to save 0 for external edges\n",
    "            G.nodes[v]['community'] = c + 1"
   ]
  },
  {
   "cell_type": "code",
   "execution_count": 276,
   "id": "0cdb77b6",
   "metadata": {},
   "outputs": [],
   "source": [
    "def set_edge_community(G):\n",
    "    '''Find internal edges and add their community to their attributes'''\n",
    "    for v, w, in G.edges:\n",
    "        if G.nodes[v]['community'] == G.nodes[w]['community']:\n",
    "            # Internal edge, mark with community\n",
    "            G.edges[v, w]['community'] = G.nodes[v]['community']\n",
    "        else:\n",
    "            # External edge, mark as 0\n",
    "            G.edges[v, w]['community'] = 0"
   ]
  },
  {
   "cell_type": "code",
   "execution_count": 277,
   "id": "7b8c5a74",
   "metadata": {},
   "outputs": [],
   "source": [
    " def get_color(i, r_off=1, g_off=1, b_off=1):\n",
    "        '''Assign a color to a vertex.'''\n",
    "        r0, g0, b0 = 0, 0, 0\n",
    "        n = 16\n",
    "        low, high = 0.01, 0.99\n",
    "        span = high - low\n",
    "        r = low + span * (((i + r_off) * 3) % n) / (n - 1)\n",
    "        g = low + span * (((i + g_off) * 5) % n) / (n - 1)\n",
    "        b = low + span * (((i + b_off) * 7) % n) / (n - 1)\n",
    "        return (r, g, b)\n",
    "# Source: https://graphsandnetworks.com/community-detection-using-networkx/"
   ]
  },
  {
   "cell_type": "code",
   "execution_count": 312,
   "id": "0ae36940",
   "metadata": {},
   "outputs": [
    {
     "data": {
      "image/png": "[encoded data removed]",
      "text/plain": [
       "<Figure size 648x360 with 1 Axes>"
      ]
     },
     "metadata": {},
     "output_type": "display_data"
    }
   ],
   "source": [
    "figure(figsize=(9, 5))\n",
    "\n",
    "# Set node and edge communities\n",
    "set_node_community(G_address, communities)\n",
    "set_edge_community(G_address)\n",
    "\n",
    "# Set community color for nodes\n",
    "node_color = [get_color(G_address.nodes[v]['community']) for v in G_address.nodes]\n",
    "\n",
    "# Set community color for internal edges\n",
    "external = [(v, w) for v, w in G_address.edges if G_address.edges[v, w]['community'] == 0]\n",
    "internal = [(v, w) for v, w in G_address.edges if G_address.edges[v, w]['community'] > 0]\n",
    "internal_color = [get_color(G_address.edges[e]['community']) for e in internal]\n",
    "\n",
    "chart_pos = nx.spring_layout(G_address)\n",
    "\n",
    "# Draw external edges\n",
    "\n",
    "##draw_networkx\n",
    "nx.draw_networkx(\n",
    "        G_address, pos=chart_pos, node_size=50, node_color = 'white',\n",
    "        edgelist=external, edge_color=\"lightgrey\", with_labels=False)\n",
    "# Draw nodes and internal edges\n",
    "nx.draw_networkx(\n",
    "        G_address, pos=chart_pos, node_color=node_color, alpha = 0.8, node_size=50,\n",
    "        edgelist=internal, edge_color=internal_color, with_labels=False)"
   ]
  },
  {
   "cell_type": "markdown",
   "id": "da797065",
   "metadata": {},
   "source": [
    "### Directed Graph"
   ]
  },
  {
   "cell_type": "code",
   "execution_count": 314,
   "id": "ab8f07c6",
   "metadata": {},
   "outputs": [
    {
     "data": {
      "image/png": "[encoded data removed]",
      "text/plain": [
       "<Figure size 648x432 with 1 Axes>"
      ]
     },
     "metadata": {},
     "output_type": "display_data"
    }
   ],
   "source": [
    "figure(figsize=(9, 6))\n",
    "\n",
    "G_directed = nx.MultiDiGraph()\n",
    "edge_list = zip(df_address.sender_address, df_address.receiver_address)\n",
    "G_directed.add_edges_from(edge_list)\n",
    "G_directed.add_nodes_from(edge_list)\n",
    "\n",
    "external = [(w, v) for v, w in G_address.edges if G_address.edges[v, w]['community'] == 0]\n",
    "internal = [(w, v) for v, w in G_address.edges if G_address.edges[v, w]['community'] > 0]\n",
    "\n",
    "# chart_pos = nx.spring_layout(G_address)\n",
    "chart_pos = nx.planar_layout(G_directed)\n",
    "# Draw external edges\n",
    "\n",
    "##draw_networkx\n",
    "nx.draw_networkx(\n",
    "        G_directed, \n",
    "        pos=chart_pos, \n",
    "        node_size=50, \n",
    "        node_color = 'white',\n",
    "        edgelist=external, \n",
    "        edge_color=\"lightgrey\", \n",
    "        with_labels=False,\n",
    "            connectionstyle='arc3, rad = 0.1',\n",
    "            arrowsbool = True,\n",
    "            arrowstyle = '->',\n",
    "            head_width = 10)\n",
    "# Draw nodes and internal edges\n",
    "nx.draw_networkx(\n",
    "        G_directed, \n",
    "        pos=chart_pos, \n",
    "        node_color=node_color, \n",
    "        alpha = 0.5, \n",
    "        node_size=50,\n",
    "        edgelist=internal, \n",
    "        edge_color=internal_color, \n",
    "        with_labels=False,\n",
    "            connectionstyle='arc3, rad = 0.1',\n",
    "            arrowsbool = False,\n",
    "            arrowstyle = '->')"
   ]
  },
  {
   "cell_type": "markdown",
   "id": "4a0e000f",
   "metadata": {},
   "source": [
    "## Pyvis"
   ]
  },
  {
   "cell_type": "code",
   "execution_count": 317,
   "id": "14a653d4",
   "metadata": {
    "scrolled": false
   },
   "outputs": [
    {
     "data": {
      "text/html": [
       "\n",
       "        <iframe\n",
       "            width=\"100%\"\n",
       "            height=\"750px\"\n",
       "            src=\"example2.html\"\n",
       "            frameborder=\"0\"\n",
       "            allowfullscreen\n",
       "        ></iframe>\n",
       "        "
      ],
      "text/plain": [
       "<IPython.lib.display.IFrame at 0x7fb24b31c550>"
      ]
     },
     "execution_count": 317,
     "metadata": {},
     "output_type": "execute_result"
    }
   ],
   "source": [
    "# Example 1: Not Directed Graph\n",
    "net = Network(notebook=True, \n",
    "              height=\"750px\", \n",
    "              width=\"100%\", \n",
    "              select_menu=True,\n",
    "             cdn_resources='remote') \n",
    "\n",
    "senders = df_address.groupby('sender_address').txs.sum().to_dict()\n",
    "receivers = df_address.groupby('receiver_address').txs.sum().to_dict()\n",
    "\n",
    "def add_node(d, col1, col2, shape = 'dot', size = 10):\n",
    "    for k, v in d.items():\n",
    "        if v == 1:\n",
    "            net.add_node(k, k, title=k, color= col1, shape = shape, size = size)\n",
    "        else:\n",
    "            net.add_node(k, k, title=k, color=col2, shape = shape, size = size)\n",
    "            \n",
    "add_node(senders, '#ff6f69', '#d96459')          \n",
    "add_node(receivers, '#96ceb4', '#588c7e', shape = 'star', size = 20)\n",
    "\n",
    "edge_list = list(zip(df_address.iloc[:,0:2].sender_address, df_address.iloc[:,0:2].receiver_address))\n",
    "net.add_edges(edge_list)\n",
    "net.repulsion()\n",
    "net.show_buttons(filter_=['physics'])\n",
    "net.show(\"example2.html\")"
   ]
  },
  {
   "cell_type": "code",
   "execution_count": 324,
   "id": "80b4f90d",
   "metadata": {},
   "outputs": [
    {
     "data": {
      "text/html": [
       "\n",
       "        <iframe\n",
       "            width=\"100%\"\n",
       "            height=\"750px\"\n",
       "            src=\"example3.html\"\n",
       "            frameborder=\"0\"\n",
       "            allowfullscreen\n",
       "        ></iframe>\n",
       "        "
      ],
      "text/plain": [
       "<IPython.lib.display.IFrame at 0x7fb1da6fda10>"
      ]
     },
     "execution_count": 324,
     "metadata": {},
     "output_type": "execute_result"
    }
   ],
   "source": [
    "# Example 2: Directed Graph\n",
    "net = Network(notebook=True, \n",
    "              height=\"750px\", \n",
    "              width=\"100%\", \n",
    "              filter_menu=True,\n",
    "              directed = True,\n",
    "              select_menu=True,\n",
    "             cdn_resources='remote') \n",
    "\n",
    "senders = df_address.groupby('sender_address').txs.sum().to_dict()\n",
    "receivers = df_address.groupby('receiver_address').txs.sum().to_dict()\n",
    "\n",
    "def add_node(d, col1, col2, shape = 'dot', size = 10):\n",
    "    for k, v in d.items():\n",
    "        if v == 1:\n",
    "            net.add_node(k, k, title=k, color= col1, shape = shape, size = size)\n",
    "        else:\n",
    "            net.add_node(k, k, title=k, color=col2, shape = shape, size = size)\n",
    "            \n",
    "add_node(senders, '#ff6f69', '#d96459')          \n",
    "add_node(receivers, '#96ceb4', '#588c7e', shape = 'star', size = 20)\n",
    "\n",
    "edge_list = list(zip(df_address.iloc[:,0:2].sender_address, df_address.iloc[:,0:2].receiver_address))\n",
    "net.add_edges(edge_list)\n",
    "net.repulsion()\n",
    "net.show_buttons(filter_=['physics'])\n",
    "net.show(\"polygon2.html\")"
   ]
  }
 ],
 "metadata": {
  "kernelspec": {
   "display_name": "Python 3",
   "language": "python",
   "name": "python3"
  },
  "language_info": {
   "codemirror_mode": {
    "name": "ipython",
    "version": 3
   },
   "file_extension": ".py",
   "mimetype": "text/x-python",
   "name": "python",
   "nbconvert_exporter": "python",
   "pygments_lexer": "ipython3",
   "version": "3.7.4"
  }
 },
 "nbformat": 4,
 "nbformat_minor": 5
}
